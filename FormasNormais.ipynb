{
  "nbformat": 4,
  "nbformat_minor": 0,
  "metadata": {
    "colab": {
      "provenance": [],
      "authorship_tag": "ABX9TyPjHoozGomuQWBrBAfzi5Vo",
      "include_colab_link": true
    },
    "kernelspec": {
      "name": "python3",
      "display_name": "Python 3"
    },
    "language_info": {
      "name": "python"
    }
  },
  "cells": [
    {
      "cell_type": "markdown",
      "metadata": {
        "id": "view-in-github",
        "colab_type": "text"
      },
      "source": [
        "<a href=\"https://colab.research.google.com/github/duzardo/modelagem_fenomenos_fisicos/blob/main/FormasNormais.ipynb\" target=\"_parent\"><img src=\"https://colab.research.google.com/assets/colab-badge.svg\" alt=\"Open In Colab\"/></a>"
      ]
    },
    {
      "cell_type": "code",
      "execution_count": 4,
      "metadata": {
        "id": "82aKbAxAkFl6",
        "colab": {
          "base_uri": "https://localhost:8080/",
          "height": 949
        },
        "outputId": "6b122f82-8e04-4e28-b207-608c769e2401"
      },
      "outputs": [
        {
          "output_type": "stream",
          "name": "stdout",
          "text": [
            "\n",
            "\n",
            "Formula Original 1 (LaTeX):\n"
          ]
        },
        {
          "output_type": "display_data",
          "data": {
            "text/plain": [
              "<IPython.core.display.Latex object>"
            ],
            "text/latex": "$∀x(P(x) -> Q(x)) ∧ ∃x(P(x) ∧ R(x))$"
          },
          "metadata": {}
        },
        {
          "output_type": "stream",
          "name": "stdout",
          "text": [
            "Formula Normal Conjuntiva (FNC) (LaTeX):\n"
          ]
        },
        {
          "output_type": "display_data",
          "data": {
            "text/plain": [
              "<IPython.core.display.Latex object>"
            ],
            "text/latex": "$\\forall x(P(x) \\wedge (¬) Q(x)) \\wedge  \\exists x(P(x) \\wedge  R(x))$"
          },
          "metadata": {}
        },
        {
          "output_type": "stream",
          "name": "stdout",
          "text": [
            "Formula Normal Disjuntiva (FND) (LaTeX):\n"
          ]
        },
        {
          "output_type": "display_data",
          "data": {
            "text/plain": [
              "<IPython.core.display.Latex object>"
            ],
            "text/latex": "$\\forall x(P(x) \\vee (¬) Q(x)) \\wedge  \\exists x(P(x) \\wedge  R(x))$"
          },
          "metadata": {}
        },
        {
          "output_type": "stream",
          "name": "stdout",
          "text": [
            "\n",
            "\n",
            "\n",
            "\n",
            "Formula Original 2 (LaTeX):\n"
          ]
        },
        {
          "output_type": "display_data",
          "data": {
            "text/plain": [
              "<IPython.core.display.Latex object>"
            ],
            "text/latex": "$∃x(P(x) ∧ ∀y(Q(y) -> R(x,y)))$"
          },
          "metadata": {}
        },
        {
          "output_type": "stream",
          "name": "stdout",
          "text": [
            "Formula Normal Conjuntiva (FNC) (LaTeX):\n"
          ]
        },
        {
          "output_type": "display_data",
          "data": {
            "text/plain": [
              "<IPython.core.display.Latex object>"
            ],
            "text/latex": "$\\exists x(P(x) \\wedge  \\forall y(Q(y) \\wedge (¬) R(x,y)))$"
          },
          "metadata": {}
        },
        {
          "output_type": "stream",
          "name": "stdout",
          "text": [
            "Formula Normal Disjuntiva (FND) (LaTeX):\n"
          ]
        },
        {
          "output_type": "display_data",
          "data": {
            "text/plain": [
              "<IPython.core.display.Latex object>"
            ],
            "text/latex": "$\\exists x(P(x) \\wedge  \\forall y(Q(y) \\vee (¬) R(x,y)))$"
          },
          "metadata": {}
        },
        {
          "output_type": "stream",
          "name": "stdout",
          "text": [
            "\n",
            "\n",
            "\n",
            "\n",
            "Formula Original 3 (LaTeX):\n"
          ]
        },
        {
          "output_type": "display_data",
          "data": {
            "text/plain": [
              "<IPython.core.display.Latex object>"
            ],
            "text/latex": "$∀x∀y(P(x,y) <-> P(y,x))$"
          },
          "metadata": {}
        },
        {
          "output_type": "stream",
          "name": "stdout",
          "text": [
            "Formula Normal Conjuntiva (FNC) (LaTeX):\n"
          ]
        },
        {
          "output_type": "display_data",
          "data": {
            "text/plain": [
              "<IPython.core.display.Latex object>"
            ],
            "text/latex": "$\\forall x\\forall y(P(x,y) \\wedge (\\wedge ) P(y,x))$"
          },
          "metadata": {}
        },
        {
          "output_type": "stream",
          "name": "stdout",
          "text": [
            "Formula Normal Disjuntiva (FND) (LaTeX):\n"
          ]
        },
        {
          "output_type": "display_data",
          "data": {
            "text/plain": [
              "<IPython.core.display.Latex object>"
            ],
            "text/latex": "$\\forall x\\forall y(P( P()y,x))$"
          },
          "metadata": {}
        },
        {
          "output_type": "stream",
          "name": "stdout",
          "text": [
            "\n",
            "\n",
            "\n",
            "\n",
            "Formula Original 4 (LaTeX):\n"
          ]
        },
        {
          "output_type": "display_data",
          "data": {
            "text/plain": [
              "<IPython.core.display.Latex object>"
            ],
            "text/latex": "$∃x∀y(P(x,y) ∧ ~Q(y))$"
          },
          "metadata": {}
        },
        {
          "output_type": "stream",
          "name": "stdout",
          "text": [
            "Formula Normal Conjuntiva (FNC) (LaTeX):\n"
          ]
        },
        {
          "output_type": "display_data",
          "data": {
            "text/plain": [
              "<IPython.core.display.Latex object>"
            ],
            "text/latex": "$\\exists x\\forall y(P(x,y) \\wedge  \\neg Q(y))$"
          },
          "metadata": {}
        },
        {
          "output_type": "stream",
          "name": "stdout",
          "text": [
            "Formula Normal Disjuntiva (FND) (LaTeX):\n"
          ]
        },
        {
          "output_type": "display_data",
          "data": {
            "text/plain": [
              "<IPython.core.display.Latex object>"
            ],
            "text/latex": "$\\exists x\\forall y(P(x,y) \\wedge  \\neg Q(y))$"
          },
          "metadata": {}
        },
        {
          "output_type": "stream",
          "name": "stdout",
          "text": [
            "\n",
            "\n",
            "\n",
            "\n",
            "Formula Original 5 (LaTeX):\n"
          ]
        },
        {
          "output_type": "display_data",
          "data": {
            "text/plain": [
              "<IPython.core.display.Latex object>"
            ],
            "text/latex": "$∀x(P(x) -> ∃y(Q(y) ∧ R(x,y)))$"
          },
          "metadata": {}
        },
        {
          "output_type": "stream",
          "name": "stdout",
          "text": [
            "Formula Normal Conjuntiva (FNC) (LaTeX):\n"
          ]
        },
        {
          "output_type": "display_data",
          "data": {
            "text/plain": [
              "<IPython.core.display.Latex object>"
            ],
            "text/latex": "$\\forall x(P(x) \\wedge (¬) \\exists y(Q(y) \\wedge  R(x,y)))$"
          },
          "metadata": {}
        },
        {
          "output_type": "stream",
          "name": "stdout",
          "text": [
            "Formula Normal Disjuntiva (FND) (LaTeX):\n"
          ]
        },
        {
          "output_type": "display_data",
          "data": {
            "text/plain": [
              "<IPython.core.display.Latex object>"
            ],
            "text/latex": "$\\forall x(P(x) \\vee (¬) \\exists y(Q(y) \\wedge  R(x,y)))$"
          },
          "metadata": {}
        },
        {
          "output_type": "stream",
          "name": "stdout",
          "text": [
            "\n",
            "\n"
          ]
        }
      ],
      "source": [
        "#Alunos: Caike Augusto Azevedo, Eduardo de Abreu Neves, Lucas Palacio Bertoncello, Vinicius Salles Zaia\n",
        "from IPython.display import display, Latex\n",
        "\n",
        "def latexify(formula):\n",
        "    latex_dict = {\n",
        "        '∀': \"\\\\forall \",\n",
        "        '∃': \"\\\\exists \",\n",
        "        '~': \"\\\\neg \",\n",
        "        '∧': \"\\\\wedge \",\n",
        "        '∨': \"\\\\vee \",\n",
        "        '->': \"\\\\rightarrow \",\n",
        "        '<->': \"\\\\leftrightarrow \",\n",
        "        '≡': \"\\\\equiv \"\n",
        "    }\n",
        "    formula = formula.replace('∃', latex_dict['∃'])\n",
        "    formula = formula.replace('∀', latex_dict['∀'])\n",
        "    formula = formula.replace('~', latex_dict['~'])\n",
        "    formula = formula.replace('∧', latex_dict['∧'])\n",
        "    formula = formula.replace('∨', latex_dict['∨'])\n",
        "    formula = formula.replace('->', latex_dict['->'])\n",
        "    formula = formula.replace('<->', latex_dict['<->'])\n",
        "    formula = formula.replace('≡', latex_dict['≡'])\n",
        "\n",
        "    return formula\n",
        "\n",
        "def formula_normal(F, formula):\n",
        "    if F == 1:\n",
        "        formula = formula.replace('<->', '∧(∧)')\n",
        "        formula = formula.replace('->', '∧(¬)')\n",
        "        while '∧(∨)' in formula:\n",
        "            pos = formula.find('∧(∨)')\n",
        "            left_bracket = formula.rfind('(', 0, pos)\n",
        "            right_bracket = formula.find(')', pos)\n",
        "            disjunction = formula[left_bracket + 1: right_bracket]\n",
        "            conjunction = formula[right_bracket + 1: right_bracket + 5]\n",
        "            formula = formula[:left_bracket] + '(' + disjunction.replace('∨', conjunction) + ')' + formula[right_bracket + 5:]\n",
        "        while '∨(∧)' in formula:\n",
        "            pos = formula.find('∨(∧)')\n",
        "            left_bracket = formula.rfind('(', 0, pos)\n",
        "            right_bracket = formula.find(')', pos)\n",
        "            conjunction = formula[left_bracket + 1: right_bracket]\n",
        "            disjunction = formula[right_bracket + 1: right_bracket + 4]\n",
        "            formula = formula[:left_bracket] + '(' + disjunction.replace('∧', conjunction) + ')' + formula[right_bracket + 4:]\n",
        "        return formula\n",
        "\n",
        "    elif F == 2:\n",
        "        formula = formula.replace('<->', '∨(∧)')\n",
        "        formula = formula.replace('->', '∨(¬)')\n",
        "        while '∨(∧)' in formula:\n",
        "            pos = formula.find('∨(∧)')\n",
        "            left_bracket = formula.rfind('(', 0, pos)\n",
        "            right_bracket = formula.find(')', pos)\n",
        "            conjunction = formula[left_bracket + 1: right_bracket]\n",
        "            disjunction = formula[right_bracket + 1: right_bracket + 4]\n",
        "            formula = formula[:left_bracket] + '(' + disjunction.replace('∧', conjunction) + ')' + formula[right_bracket + 4:]\n",
        "        while '∧(∨)' in formula:\n",
        "            pos = formula.find('∧(∨)')\n",
        "            left_bracket = formula.rfind('(', 0, pos)\n",
        "            right_bracket = formula.find(')', pos)\n",
        "            disjunction = formula[left_bracket + 1: right_bracket]\n",
        "            conjunction = formula[right_bracket + 1: right_bracket + 5]\n",
        "            formula = formula[:left_bracket] + '(' + disjunction.replace('∨', conjunction) + ')' + formula[right_bracket + 5:]\n",
        "        return formula\n",
        "\n",
        "formulas_lidas = []\n",
        "with open(\"formulas.txt\", \"r\") as file:\n",
        "    for line in file:\n",
        "        formula = line.strip()\n",
        "        formulas_lidas.append(formula)\n",
        "\n",
        "for i, formula in enumerate(formulas_lidas, start=1):\n",
        "    print(\"\\n\")\n",
        "    print(f\"Formula Original {i} (LaTeX):\")\n",
        "    display(Latex(f'${formula}$'))\n",
        "    print(\"Formula Normal Conjuntiva (FNC) (LaTeX):\")\n",
        "    fnc_formula = formula_normal(1, formula)\n",
        "    display(Latex(f'${latexify(fnc_formula)}$'))\n",
        "    print(\"Formula Normal Disjuntiva (FND) (LaTeX):\")\n",
        "    fnd_formula = formula_normal(2, formula)\n",
        "    display(Latex(f'${latexify(fnd_formula)}$'))\n",
        "    print(\"\\n\")"
      ]
    }
  ]
}